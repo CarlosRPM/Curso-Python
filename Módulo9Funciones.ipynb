{
  "cells": [
    {
      "cell_type": "markdown",
      "metadata": {},
      "source": [
        "## Actividad 1"
      ]
    },
    {
      "cell_type": "code",
      "execution_count": 8,
      "metadata": {},
      "outputs": [
        {
          "name": "stdout",
          "output_type": "stream",
          "text": [
            "Reporte de Combustible:\n",
            "    Promedio Total: 78.33333333333333%\n",
            "    Tanque Principal: 80%\n",
            "    Tanque Externo: 70%\n",
            "    Tanque de Hidrogeno: 85% \n",
            "    \n",
            "Fuel Report:\n",
            "    Promedio Total: 78.0%\n",
            "    Tanque Principal: 88%\n",
            "    Tanque Externo: 76%\n",
            "    Tanque de Hidrogeno: 70% \n",
            "    \n"
          ]
        }
      ],
      "source": [
        "# Función con los 3 tanques\n",
        "\n",
        "def generate_report(main_tank, external_tank, hydrogen_tank):\n",
        "    total_average = (main_tank + external_tank + hydrogen_tank) / 3\n",
        "    return f\"\"\"Reporte de Combustible:\n",
        "    Promedio Total: {total_average}%\n",
        "    Tanque Principal: {main_tank}%\n",
        "    Tanque Externo: {external_tank}%\n",
        "    Tanque de Hidrogeno: {hydrogen_tank}% \n",
        "    \"\"\"\n",
        "\n",
        "print(generate_report(80, 70, 85))\n",
        "\n",
        "def average(values):\n",
        "    total = sum(values)\n",
        "    number_of_items = len(values)\n",
        "    return total / number_of_items\n",
        "\n",
        "average([80, 85, 81]) \n",
        "\n",
        "def generate_report(main_tank, external_tank, hydrogen_tank):\n",
        "    return f\"\"\"Fuel Report:\n",
        "    Promedio Total: {average([main_tank, external_tank, hydrogen_tank])}%\n",
        "    Tanque Principal: {main_tank}%\n",
        "    Tanque Externo: {external_tank}%\n",
        "    Tanque de Hidrogeno: {hydrogen_tank}% \n",
        "    \"\"\"\n",
        "\n",
        "print(generate_report(88, 76, 70))"
      ]
    },
    {
      "cell_type": "markdown",
      "metadata": {},
      "source": [
        "### Ejercicio 2:"
      ]
    },
    {
      "cell_type": "code",
      "execution_count": 11,
      "metadata": {},
      "outputs": [
        {
          "name": "stdout",
          "output_type": "stream",
          "text": [
            "\n",
            "    Mision Hacia Luna\n",
            "    Tiempo total del viaje: 65 Minutos\n",
            "    Combustible Restante: 500000 galones\n",
            "    \n",
            "\n",
            "    Mision Hacia Luna\n",
            "    Tiempo total del viaje: 76 minutos\n",
            "    Combustible Restante: 500000\n",
            "    \n",
            "\n",
            "    Mision Hacia Luna\n",
            "    Tiempo total del viaje: 74 minutos\n",
            "    Combustible Restante: 500000\n",
            "    main tanque --> 300000 galones restantes\n",
            "external tanque --> 200000 galones restantes\n",
            "\n"
          ]
        }
      ],
      "source": [
        "# Funcion con los datos de la mision\n",
        "\n",
        "def mission_report(pre_launch_time, flight_time, destination, external_tank, main_tank):\n",
        "    return f\"\"\"\n",
        "    Mision Hacia {destination}\n",
        "    Tiempo total del viaje: {pre_launch_time + flight_time} Minutos\n",
        "    Combustible Restante: {external_tank + main_tank} galones\n",
        "    \"\"\"\n",
        "\n",
        "print(mission_report(14, 51, \"Luna\", 200000, 300000))\n",
        "\n",
        "#nueva funcion en base a los resultados anteriores\n",
        "\n",
        "def mission_report(destination, *minutes, **fuel_reservoirs):\n",
        "    return f\"\"\"\n",
        "    Mision Hacia {destination}\n",
        "    Tiempo total del viaje: {sum(minutes)} minutos\n",
        "    Combustible Restante: {sum(fuel_reservoirs.values())}\n",
        "    \"\"\"\n",
        "\n",
        "print(mission_report(\"Luna\", 10, 15, 51, main=300000, external=200000))\n",
        "\n",
        "# Funcion actualizada\n",
        "\n",
        "def mission_report(destination, *minutes, **fuel_reservoirs):\n",
        "    main_report = f\"\"\"\n",
        "    Mision Hacia {destination}\n",
        "    Tiempo total del viaje: {sum(minutes)} minutos\n",
        "    Combustible Restante: {sum(fuel_reservoirs.values())}\n",
        "    \"\"\"\n",
        "    for tank_name, gallons in fuel_reservoirs.items():\n",
        "        main_report += f\"{tank_name} tanque --> {gallons} galones restantes\\n\"\n",
        "    return main_report\n",
        "\n",
        "print(mission_report(\"Luna\", 8, 11, 55, main=300000, external=200000))"
      ]
    }
  ],
  "metadata": {
    "interpreter": {
      "hash": "205095b8b86ea82a021a8fc2ffba2b3bc9f8d0be25999901963b225939f75778"
    },
    "kernelspec": {
      "display_name": "Python 3.8.10 64-bit ('tmp': conda)",
      "name": "python3"
    },
    "language_info": {
      "codemirror_mode": {
        "name": "ipython",
        "version": 3
      },
      "file_extension": ".py",
      "mimetype": "text/x-python",
      "name": "python",
      "nbconvert_exporter": "python",
      "pygments_lexer": "ipython3",
      "version": "3.10.2"
    },
    "nteract": {
      "version": "nteract-front-end@1.0.0"
    },
    "orig_nbformat": 4
  },
  "nbformat": 4,
  "nbformat_minor": 2
}

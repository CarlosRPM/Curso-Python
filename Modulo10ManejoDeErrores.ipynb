{
 "cells": [
  {
   "cell_type": "markdown",
   "metadata": {},
   "source": [
    "[![10-1.png](https://i.postimg.cc/L4TF0r4h/10-1.png)](https://postimg.cc/jCL1D37r)\n",
    "[![10-2.png](https://i.postimg.cc/MHX55MK7/10-2.png)](https://postimg.cc/WqL0b4Zz)\n",
    "[![10-3.png](https://i.postimg.cc/0530xNy4/10-3.png)](https://postimg.cc/23QZ7rvd)\n",
    "[![10-4.png](https://i.postimg.cc/Bn3Y9vh0/10-4.png)](https://postimg.cc/Mvsb1z2P)"
   ]
  }
 ],
 "metadata": {
  "interpreter": {
   "hash": "fca7286ad49a51c87c04439b8abc41030fa88164ec992102bbafb8655b3208f8"
  },
  "kernelspec": {
   "display_name": "Python 3.10.2 64-bit (windows store)",
   "language": "python",
   "name": "python3"
  },
  "language_info": {
   "codemirror_mode": {
    "name": "ipython",
    "version": 3
   },
   "file_extension": ".py",
   "mimetype": "text/x-python",
   "name": "python",
   "nbconvert_exporter": "python",
   "pygments_lexer": "ipython3",
   "version": "3.10.2"
  },
  "orig_nbformat": 4
 },
 "nbformat": 4,
 "nbformat_minor": 2
}

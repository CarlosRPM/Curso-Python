{
  "cells": [
    {
      "cell_type": "markdown",
      "metadata": {},
      "source": [
        "## Actividad 1"
      ]
    },
    {
      "cell_type": "code",
      "execution_count": 5,
      "metadata": {},
      "outputs": [
        {
          "name": "stdout",
          "output_type": "stream",
          "text": [
            "[]\n",
            "['luna']\n",
            "['luna', 'marte']\n",
            "['luna', 'marte', 'jupiter']\n",
            "['luna', 'marte', 'jupiter', 'saturno']\n"
          ]
        }
      ],
      "source": [
        "planeta_nuevo = ''\n",
        "planetas = []\n",
        "\n",
        "# Escribe el ciclo while solicitado\n",
        "while planeta_nuevo.lower() != 'done':\n",
        "    if planeta_nuevo:\n",
        "        planetas.append(planeta_nuevo)\n",
        "    planeta_nuevo = input('Ingresa el nuevo planeta o escribe done para terminar')\n",
        "    print(planetas)\n"
      ]
    },
    {
      "cell_type": "markdown",
      "metadata": {},
      "source": [
        "## Actividad 2"
      ]
    },
    {
      "cell_type": "code",
      "execution_count": 4,
      "metadata": {},
      "outputs": [
        {
          "name": "stdout",
          "output_type": "stream",
          "text": [
            "Esta es la lista de planetas: \n",
            "Mercurio\n",
            "Venus\n",
            "Tierra\n",
            "Marte\n",
            "Jupiter\n",
            "Saturno\n",
            "Urano\n",
            "Neptuno\n"
          ]
        }
      ],
      "source": [
        "# Escribe tu ciclo for para iterar en una lista de planetas\n",
        "planetas = ['Mercurio', 'Venus', 'Tierra', 'Marte', 'Jupiter', 'Saturno', 'Urano', 'Neptuno']\n",
        "print(\"Esta es la lista de planetas: \")\n",
        "for planeta in planetas:\n",
        "    print(planeta)"
      ]
    }
  ],
  "metadata": {
    "interpreter": {
      "hash": "916dbcbb3f70747c44a77c7bcd40155683ae19c65e1c03b4aa3499c5328201f1"
    },
    "kernelspec": {
      "display_name": "Python 3.8.10 64-bit",
      "language": "python",
      "name": "python3"
    },
    "language_info": {
      "codemirror_mode": {
        "name": "ipython",
        "version": 3
      },
      "file_extension": ".py",
      "mimetype": "text/x-python",
      "name": "python",
      "nbconvert_exporter": "python",
      "pygments_lexer": "ipython3",
      "version": "3.10.2"
    },
    "nteract": {
      "version": "nteract-front-end@1.0.0"
    },
    "orig_nbformat": 4
  },
  "nbformat": 4,
  "nbformat_minor": 2
}

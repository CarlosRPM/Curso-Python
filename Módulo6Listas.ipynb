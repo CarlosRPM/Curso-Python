{
  "cells": [
    {
      "cell_type": "markdown",
      "metadata": {},
      "source": [
        "## Actividad 1"
      ]
    },
    {
      "cell_type": "code",
      "execution_count": 9,
      "metadata": {},
      "outputs": [
        {
          "name": "stdout",
          "output_type": "stream",
          "text": [
            "En total son 8 planetas\n",
            "Pluton es el ultimo planeta\n"
          ]
        }
      ],
      "source": [
        "planetas = ['Mercurio', 'Venus', 'Tierra', 'Marte', 'Jupiter', 'Saturno', 'Urano', 'Neptuno']\n",
        "\n",
        "print('En total son', len(planetas), 'planetas')\n",
        "\n",
        "# Agregamos a plutón\n",
        "planetas.append('Pluton')\n",
        "#Se imprime el planeta mas lejano\n",
        "print(planetas[-1], 'es el ultimo planeta')"
      ]
    },
    {
      "cell_type": "markdown",
      "metadata": {},
      "source": [
        "## Actividad 2"
      ]
    },
    {
      "cell_type": "code",
      "execution_count": 7,
      "metadata": {},
      "outputs": [
        {
          "name": "stdout",
          "output_type": "stream",
          "text": [
            "Aqui estan los planetas mas cercanos Marte\n",
            "['Mercurio', 'Venus', 'Tierra']\n",
            "Here are the planets further than Marte\n",
            "['Jupiter', 'Saturno', 'Urano', 'Neptuno']\n"
          ]
        }
      ],
      "source": [
        "planetas = ['Mercurio', 'Venus', 'Tierra', 'Marte', 'Jupiter', 'Saturno', 'Urano', 'Neptuno']\n",
        "\n",
        "# se ingresa el planeta\n",
        "planeta_seleccionado = input('Ingresa el nombre de un planeta (Inicia con mayuscula el nombre)')\n",
        "\n",
        "# se busca el planeta\n",
        "lista_planetas = planetas.index(planeta_seleccionado)\n",
        "\n",
        "# mas cercanos\n",
        "print('Aqui estan los planetas mas cercanos que ' + planeta_seleccionado)\n",
        "print(planetas[0:lista_planetas])\n",
        "\n",
        "# mas lejanos\n",
        "print('Aqui estan los planetas mas lejanos que ' + planeta_seleccionado)\n",
        "print(planetas[lista_planetas + 1:])"
      ]
    }
  ],
  "metadata": {
    "interpreter": {
      "hash": "b8bdd4e700647ba2b08c59e5df8b7da1dcf50a218bcd4c1bcd9b3dc92e8788e5"
    },
    "kernelspec": {
      "display_name": "Python 3.9.1 64-bit",
      "name": "python3"
    },
    "language_info": {
      "codemirror_mode": {
        "name": "ipython",
        "version": 3
      },
      "file_extension": ".py",
      "mimetype": "text/x-python",
      "name": "python",
      "nbconvert_exporter": "python",
      "pygments_lexer": "ipython3",
      "version": "3.10.2"
    },
    "nteract": {
      "version": "nteract-front-end@1.0.0"
    }
  },
  "nbformat": 4,
  "nbformat_minor": 4
}

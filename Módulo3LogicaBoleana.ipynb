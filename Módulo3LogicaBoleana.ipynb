{
  "cells": [
    {
      "cell_type": "markdown",
      "metadata": {},
      "source": [
        "## Modulo3 Logica Boleana\n",
        "\n"
      ]
    },
    {
      "cell_type": "markdown",
      "metadata": {},
      "source": [
        "## Actividad 1"
      ]
    },
    {
      "cell_type": "code",
      "execution_count": 7,
      "metadata": {},
      "outputs": [
        {
          "name": "stdout",
          "output_type": "stream",
          "text": [
            "¡Cuidado ateroide de gran tamaño en camino!!!\n"
          ]
        }
      ],
      "source": [
        "asteroide = 49\n",
        "if asteroide > 25:\n",
        "    print('¡Cuidado ateroide de gran tamaño en camino!!!')\n",
        "else:\n",
        "    print('¡Esta alarma es para decirte que todo esta bien C: !')"
      ]
    },
    {
      "cell_type": "markdown",
      "metadata": {},
      "source": [
        "## Actividad 2"
      ]
    },
    {
      "cell_type": "code",
      "execution_count": 5,
      "metadata": {},
      "outputs": [
        {
          "name": "stdout",
          "output_type": "stream",
          "text": [
            "¡El cielo esta vacio! Pero no tanto como el vacio que dejo ella :c\n"
          ]
        }
      ],
      "source": [
        "asteroide = 19\n",
        "if asteroide > 20:\n",
        "    print('¡Asteoide a la vista, mira al cielo y aprecialo!')\n",
        "elif asteroide == 20:\n",
        "    print('¡Asteoide a la vista, mira al cielo y aprecialo!')\n",
        "else:\n",
        "    print('¡El cielo esta vacio! Pero no tanto como el vacio que dejo ella :c')"
      ]
    },
    {
      "cell_type": "markdown",
      "metadata": {},
      "source": [
        "## Actividad 3"
      ]
    },
    {
      "cell_type": "code",
      "execution_count": 8,
      "metadata": {},
      "outputs": [
        {
          "name": "stdout",
          "output_type": "stream",
          "text": [
            "¡Asteoide a la vista, mira al cielo y aprecialo!\n"
          ]
        }
      ],
      "source": [
        "velocidad_asteroide = 25\n",
        "tamano_asteroide = 40\n",
        "if velocidad_asteroide > 25 and tamano_asteroide > 25:\n",
        "    print('¡Cuidado ateroide de gran tamaño en camino!!!')\n",
        "elif velocidad_asteroide >= 20:\n",
        "    print('¡Asteoide a la vista, mira al cielo y aprecialo!')\n",
        "elif tamano_asteroide < 25:\n",
        "    print('¡El cielo esta vacio! Pero no tanto como el vacio que dejo ella :c')\n",
        "else:\n",
        "    print('¡El cielo esta vacio! Pero no tanto como el vacio que dejo ella :c')"
      ]
    }
  ],
  "metadata": {
    "interpreter": {
      "hash": "916dbcbb3f70747c44a77c7bcd40155683ae19c65e1c03b4aa3499c5328201f1"
    },
    "kernel_info": {
      "name": "conda-env-py37_default-py"
    },
    "kernelspec": {
      "display_name": "py37_default",
      "language": "python",
      "name": "python3"
    },
    "language_info": {
      "codemirror_mode": {
        "name": "ipython",
        "version": 3
      },
      "file_extension": ".py",
      "mimetype": "text/x-python",
      "name": "python",
      "nbconvert_exporter": "python",
      "pygments_lexer": "ipython3",
      "version": "3.10.2"
    },
    "nteract": {
      "version": "nteract-front-end@1.0.0"
    },
    "orig_nbformat": 4
  },
  "nbformat": 4,
  "nbformat_minor": 2
}

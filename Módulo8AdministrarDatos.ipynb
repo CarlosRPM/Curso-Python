{
  "cells": [
    {
      "cell_type": "markdown",
      "metadata": {},
      "source": [
        "## Actividad 1:"
      ]
    },
    {
      "cell_type": "code",
      "execution_count": 5,
      "metadata": {},
      "outputs": [
        {
          "name": "stdout",
          "output_type": "stream",
          "text": [
            "Marte tiene 2 lunas\n",
            "Marte Tiene una circunferencia polar de 6752\n"
          ]
        }
      ],
      "source": [
        "# Crea un diccionario llamado planet con los datos propuestos\n",
        "\n",
        "planeta = {\n",
        "    'nombre': 'Marte',\n",
        "    'lunas': 2\n",
        "}\n",
        "\n",
        "\n",
        "print(f'{planeta[\"nombre\"]} tiene {planeta[\"lunas\"]} lunas')\n",
        "\n",
        "# Agrega la clave circunferencia con los datos proporcionados previamente\n",
        "\n",
        "planeta['circumferencia (km)'] = {\n",
        "    'polar': 6752,\n",
        "    'ecuatorial': 6792\n",
        "}\n",
        "\n",
        "# Imprime el nombre del planeta con su circunferencia polar.\n",
        "\n",
        "print(f'{planeta[\"nombre\"]} Tiene una circunferencia polar de {planeta[\"circumferencia (km)\"][\"polar\"]}')"
      ]
    },
    {
      "cell_type": "markdown",
      "metadata": {},
      "source": [
        "## Actividad 2"
      ]
    },
    {
      "cell_type": "code",
      "execution_count": 7,
      "metadata": {},
      "outputs": [
        {
          "name": "stdout",
          "output_type": "stream",
          "text": [
            "dict_values([0, 0, 1, 2, 79, 82, 27, 14, 5, 2, 1, 1])\n",
            "12\n",
            "214\n",
            "17.833333333333332\n"
          ]
        }
      ],
      "source": [
        "#planetas y lunas\n",
        "planet_moons = {\n",
        "    'mercury': 0,\n",
        "    'venus': 0,\n",
        "    'earth': 1,\n",
        "    'mars': 2,\n",
        "    'jupiter': 79,\n",
        "    'saturn': 82,\n",
        "    'uranus': 27,\n",
        "    'neptune': 14,\n",
        "    'pluto': 5,\n",
        "    'haumea': 2,\n",
        "    'makemake': 1,\n",
        "    'eris': 1\n",
        "}\n",
        "#lunas y conteo de lunas\n",
        "moons = planet_moons.values()\n",
        "print(moons)\n",
        "planets = len(planet_moons.keys())\n",
        "print(planets)\n",
        "\n",
        "#promedio de lunas\n",
        "total_moons = 0\n",
        "for value in planet_moons.values():\n",
        "    total_moons = total_moons + value\n",
        "print(total_moons)\n",
        "average_moons = total_moons / planets\n",
        "print(average_moons)"
      ]
    }
  ],
  "metadata": {
    "interpreter": {
      "hash": "916dbcbb3f70747c44a77c7bcd40155683ae19c65e1c03b4aa3499c5328201f1"
    },
    "kernelspec": {
      "display_name": "Python 3.8.10 64-bit",
      "name": "python3"
    },
    "language_info": {
      "codemirror_mode": {
        "name": "ipython",
        "version": 3
      },
      "file_extension": ".py",
      "mimetype": "text/x-python",
      "name": "python",
      "nbconvert_exporter": "python",
      "pygments_lexer": "ipython3",
      "version": "3.10.2"
    },
    "nteract": {
      "version": "nteract-front-end@1.0.0"
    },
    "orig_nbformat": 4
  },
  "nbformat": 4,
  "nbformat_minor": 2
}
